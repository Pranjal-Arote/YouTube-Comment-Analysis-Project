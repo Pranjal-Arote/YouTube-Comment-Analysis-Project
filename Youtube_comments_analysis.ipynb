{
 "cells": [
  {
   "cell_type": "code",
   "execution_count": 1,
   "id": "08a5a340",
   "metadata": {},
   "outputs": [],
   "source": [
    "import pandas as pd\n",
    "import numpy as np"
   ]
  },
  {
   "cell_type": "code",
   "execution_count": 2,
   "id": "14a97f75",
   "metadata": {},
   "outputs": [
    {
     "data": {
      "text/html": [
       "<div>\n",
       "<style scoped>\n",
       "    .dataframe tbody tr th:only-of-type {\n",
       "        vertical-align: middle;\n",
       "    }\n",
       "\n",
       "    .dataframe tbody tr th {\n",
       "        vertical-align: top;\n",
       "    }\n",
       "\n",
       "    .dataframe thead th {\n",
       "        text-align: right;\n",
       "    }\n",
       "</style>\n",
       "<table border=\"1\" class=\"dataframe\">\n",
       "  <thead>\n",
       "    <tr style=\"text-align: right;\">\n",
       "      <th></th>\n",
       "      <th>Video Name</th>\n",
       "      <th>Channel Name</th>\n",
       "      <th>Comment Id</th>\n",
       "      <th>User Name</th>\n",
       "      <th>Comment</th>\n",
       "      <th>Date</th>\n",
       "      <th>Likes</th>\n",
       "    </tr>\n",
       "  </thead>\n",
       "  <tbody>\n",
       "    <tr>\n",
       "      <th>0</th>\n",
       "      <td>Luis Fonsi - Despacito ft. Daddy Yankee</td>\n",
       "      <td>LuisFonsiVEVO</td>\n",
       "      <td>UgwV0tapZzaFxdYm1z14AaABAg</td>\n",
       "      <td>GAMIT yuvraj</td>\n",
       "      <td>The people who liked this comment is officiall...</td>\n",
       "      <td>2020-08-10T20:00:43Z</td>\n",
       "      <td>98280</td>\n",
       "    </tr>\n",
       "    <tr>\n",
       "      <th>1</th>\n",
       "      <td>Luis Fonsi - Despacito ft. Daddy Yankee</td>\n",
       "      <td>LuisFonsiVEVO</td>\n",
       "      <td>UgyiccblP3A16aixpit4AaABAg</td>\n",
       "      <td>MrCrazy</td>\n",
       "      <td>- Wait, it's 7B views\\n- Always has been</td>\n",
       "      <td>2020-09-07T20:52:36Z</td>\n",
       "      <td>773</td>\n",
       "    </tr>\n",
       "    <tr>\n",
       "      <th>2</th>\n",
       "      <td>Luis Fonsi - Despacito ft. Daddy Yankee</td>\n",
       "      <td>LuisFonsiVEVO</td>\n",
       "      <td>Ugx7THW3EBNJlhJuwSB4AaABAg</td>\n",
       "      <td>60K Subs With 1 Video Challenge</td>\n",
       "      <td>*Teacher: What is the population of the Earth?...</td>\n",
       "      <td>2019-11-21T03:23:32Z</td>\n",
       "      <td>356081</td>\n",
       "    </tr>\n",
       "    <tr>\n",
       "      <th>3</th>\n",
       "      <td>Luis Fonsi - Despacito ft. Daddy Yankee</td>\n",
       "      <td>LuisFonsiVEVO</td>\n",
       "      <td>UgzXUsI6yrRjTKNASf94AaABAg</td>\n",
       "      <td>Srivathsa D</td>\n",
       "      <td>Let's be honest this wasn't your recommendatio...</td>\n",
       "      <td>2020-09-09T03:41:34Z</td>\n",
       "      <td>13</td>\n",
       "    </tr>\n",
       "    <tr>\n",
       "      <th>4</th>\n",
       "      <td>Luis Fonsi - Despacito ft. Daddy Yankee</td>\n",
       "      <td>LuisFonsiVEVO</td>\n",
       "      <td>UgxCu6mywg6uqjueHQ14AaABAg</td>\n",
       "      <td>1k Subscribers Challenge Without Any Video</td>\n",
       "      <td>Types Of People:\\n10% Enjoying Song \\n90% Chec...</td>\n",
       "      <td>2020-09-08T09:53:24Z</td>\n",
       "      <td>122</td>\n",
       "    </tr>\n",
       "    <tr>\n",
       "      <th>...</th>\n",
       "      <td>...</td>\n",
       "      <td>...</td>\n",
       "      <td>...</td>\n",
       "      <td>...</td>\n",
       "      <td>...</td>\n",
       "      <td>...</td>\n",
       "      <td>...</td>\n",
       "    </tr>\n",
       "    <tr>\n",
       "      <th>19295</th>\n",
       "      <td>ZAYN - PILLOWTALK (Official Music Video)</td>\n",
       "      <td>ZaynVEVO</td>\n",
       "      <td>UgxqlnG8nQ36eDoXKbJ4AaABAg</td>\n",
       "      <td>KineZ</td>\n",
       "      <td>Claim your “before 1 billion” certificate here</td>\n",
       "      <td>2020-07-28T18:39:38Z</td>\n",
       "      <td>5087</td>\n",
       "    </tr>\n",
       "    <tr>\n",
       "      <th>19296</th>\n",
       "      <td>ZAYN - PILLOWTALK (Official Music Video)</td>\n",
       "      <td>ZaynVEVO</td>\n",
       "      <td>UgwZsgM-0pn9tiFxmOh4AaABAg</td>\n",
       "      <td>varun raj</td>\n",
       "      <td>This means that you are before 1 billion views.</td>\n",
       "      <td>2020-09-09T11:41:30Z</td>\n",
       "      <td>6</td>\n",
       "    </tr>\n",
       "    <tr>\n",
       "      <th>19297</th>\n",
       "      <td>ZAYN - PILLOWTALK (Official Music Video)</td>\n",
       "      <td>ZaynVEVO</td>\n",
       "      <td>UgxeBmhoyhSILM0HPux4AaABAg</td>\n",
       "      <td>hey harry</td>\n",
       "      <td>We won't have school till 2021 \\nMay God help ...</td>\n",
       "      <td>2020-09-09T10:03:04Z</td>\n",
       "      <td>5</td>\n",
       "    </tr>\n",
       "    <tr>\n",
       "      <th>19298</th>\n",
       "      <td>ZAYN - PILLOWTALK (Official Music Video)</td>\n",
       "      <td>ZaynVEVO</td>\n",
       "      <td>Ugy6KVBjdz7Rj2yxTER4AaABAg</td>\n",
       "      <td>Jannat EXO-L</td>\n",
       "      <td>Literally saw this song from 1M -&gt; 996M</td>\n",
       "      <td>2020-09-08T19:41:18Z</td>\n",
       "      <td>4</td>\n",
       "    </tr>\n",
       "    <tr>\n",
       "      <th>19299</th>\n",
       "      <td>ZAYN - PILLOWTALK (Official Music Video)</td>\n",
       "      <td>ZaynVEVO</td>\n",
       "      <td>Ugx6zGINIY_96bZzu0x4AaABAg</td>\n",
       "      <td>Paola Dávila</td>\n",
       "      <td>Podría escuchar esta canción la misma cantidad...</td>\n",
       "      <td>2020-09-09T06:47:03Z</td>\n",
       "      <td>3</td>\n",
       "    </tr>\n",
       "  </tbody>\n",
       "</table>\n",
       "<p>19300 rows × 7 columns</p>\n",
       "</div>"
      ],
      "text/plain": [
       "                                     Video Name   Channel Name  \\\n",
       "0       Luis Fonsi - Despacito ft. Daddy Yankee  LuisFonsiVEVO   \n",
       "1       Luis Fonsi - Despacito ft. Daddy Yankee  LuisFonsiVEVO   \n",
       "2       Luis Fonsi - Despacito ft. Daddy Yankee  LuisFonsiVEVO   \n",
       "3       Luis Fonsi - Despacito ft. Daddy Yankee  LuisFonsiVEVO   \n",
       "4       Luis Fonsi - Despacito ft. Daddy Yankee  LuisFonsiVEVO   \n",
       "...                                         ...            ...   \n",
       "19295  ZAYN - PILLOWTALK (Official Music Video)       ZaynVEVO   \n",
       "19296  ZAYN - PILLOWTALK (Official Music Video)       ZaynVEVO   \n",
       "19297  ZAYN - PILLOWTALK (Official Music Video)       ZaynVEVO   \n",
       "19298  ZAYN - PILLOWTALK (Official Music Video)       ZaynVEVO   \n",
       "19299  ZAYN - PILLOWTALK (Official Music Video)       ZaynVEVO   \n",
       "\n",
       "                       Comment Id                                   User Name  \\\n",
       "0      UgwV0tapZzaFxdYm1z14AaABAg                                GAMIT yuvraj   \n",
       "1      UgyiccblP3A16aixpit4AaABAg                                     MrCrazy   \n",
       "2      Ugx7THW3EBNJlhJuwSB4AaABAg             60K Subs With 1 Video Challenge   \n",
       "3      UgzXUsI6yrRjTKNASf94AaABAg                                 Srivathsa D   \n",
       "4      UgxCu6mywg6uqjueHQ14AaABAg  1k Subscribers Challenge Without Any Video   \n",
       "...                           ...                                         ...   \n",
       "19295  UgxqlnG8nQ36eDoXKbJ4AaABAg                                       KineZ   \n",
       "19296  UgwZsgM-0pn9tiFxmOh4AaABAg                                   varun raj   \n",
       "19297  UgxeBmhoyhSILM0HPux4AaABAg                                   hey harry   \n",
       "19298  Ugy6KVBjdz7Rj2yxTER4AaABAg                                Jannat EXO-L   \n",
       "19299  Ugx6zGINIY_96bZzu0x4AaABAg                                Paola Dávila   \n",
       "\n",
       "                                                 Comment  \\\n",
       "0      The people who liked this comment is officiall...   \n",
       "1               - Wait, it's 7B views\\n- Always has been   \n",
       "2      *Teacher: What is the population of the Earth?...   \n",
       "3      Let's be honest this wasn't your recommendatio...   \n",
       "4      Types Of People:\\n10% Enjoying Song \\n90% Chec...   \n",
       "...                                                  ...   \n",
       "19295     Claim your “before 1 billion” certificate here   \n",
       "19296    This means that you are before 1 billion views.   \n",
       "19297  We won't have school till 2021 \\nMay God help ...   \n",
       "19298            Literally saw this song from 1M -> 996M   \n",
       "19299  Podría escuchar esta canción la misma cantidad...   \n",
       "\n",
       "                       Date   Likes  \n",
       "0      2020-08-10T20:00:43Z   98280  \n",
       "1      2020-09-07T20:52:36Z     773  \n",
       "2      2019-11-21T03:23:32Z  356081  \n",
       "3      2020-09-09T03:41:34Z      13  \n",
       "4      2020-09-08T09:53:24Z     122  \n",
       "...                     ...     ...  \n",
       "19295  2020-07-28T18:39:38Z    5087  \n",
       "19296  2020-09-09T11:41:30Z       6  \n",
       "19297  2020-09-09T10:03:04Z       5  \n",
       "19298  2020-09-08T19:41:18Z       4  \n",
       "19299  2020-09-09T06:47:03Z       3  \n",
       "\n",
       "[19300 rows x 7 columns]"
      ]
     },
     "execution_count": 2,
     "metadata": {},
     "output_type": "execute_result"
    }
   ],
   "source": [
    "df=pd.read_csv(\"youtube_dataset.csv\")df"
   ]
  },
  {
   "cell_type": "code",
   "execution_count": 3,
   "id": "4dffd958",
   "metadata": {},
   "outputs": [
    {
     "data": {
      "text/plain": [
       "Video Name      0\n",
       "Channel Name    0\n",
       "Comment Id      0\n",
       "User Name       1\n",
       "Comment         0\n",
       "Date            0\n",
       "Likes           0\n",
       "dtype: int64"
      ]
     },
     "execution_count": 3,
     "metadata": {},
     "output_type": "execute_result"
    }
   ],
   "source": [
    "#checking for null values\n",
    "df.isnull().sum()"
   ]
  },
  {
   "cell_type": "code",
   "execution_count": 4,
   "id": "45effb6f",
   "metadata": {},
   "outputs": [],
   "source": [
    "df.dropna(inplace=True)"
   ]
  },
  {
   "cell_type": "code",
   "execution_count": 5,
   "id": "c8a2295a",
   "metadata": {},
   "outputs": [
    {
     "data": {
      "text/plain": [
       "Video Name      0\n",
       "Channel Name    0\n",
       "Comment Id      0\n",
       "User Name       0\n",
       "Comment         0\n",
       "Date            0\n",
       "Likes           0\n",
       "dtype: int64"
      ]
     },
     "execution_count": 5,
     "metadata": {},
     "output_type": "execute_result"
    }
   ],
   "source": [
    "df.isnull().sum()"
   ]
  },
  {
   "cell_type": "code",
   "execution_count": 6,
   "id": "855333fe",
   "metadata": {},
   "outputs": [
    {
     "data": {
      "text/plain": [
       "0         Luis Fonsi - Despacito ft. Daddy Yankee\n",
       "1         Luis Fonsi - Despacito ft. Daddy Yankee\n",
       "2         Luis Fonsi - Despacito ft. Daddy Yankee\n",
       "3         Luis Fonsi - Despacito ft. Daddy Yankee\n",
       "4         Luis Fonsi - Despacito ft. Daddy Yankee\n",
       "                           ...                   \n",
       "19295    ZAYN - PILLOWTALK (Official Music Video)\n",
       "19296    ZAYN - PILLOWTALK (Official Music Video)\n",
       "19297    ZAYN - PILLOWTALK (Official Music Video)\n",
       "19298    ZAYN - PILLOWTALK (Official Music Video)\n",
       "19299    ZAYN - PILLOWTALK (Official Music Video)\n",
       "Name: Video Name, Length: 19299, dtype: object"
      ]
     },
     "execution_count": 6,
     "metadata": {},
     "output_type": "execute_result"
    }
   ],
   "source": [
    "df[\"Video Name\"]\n"
   ]
  },
  {
   "cell_type": "code",
   "execution_count": 7,
   "id": "5a9af7b9",
   "metadata": {},
   "outputs": [
    {
     "data": {
      "text/plain": [
       "Index(['Video Name', 'Channel Name', 'Comment Id', 'User Name', 'Comment',\n",
       "       'Date', 'Likes'],\n",
       "      dtype='object')"
      ]
     },
     "execution_count": 7,
     "metadata": {},
     "output_type": "execute_result"
    }
   ],
   "source": [
    "df.columns"
   ]
  },
  {
   "cell_type": "code",
   "execution_count": 8,
   "id": "f8f67060",
   "metadata": {},
   "outputs": [
    {
     "name": "stderr",
     "output_type": "stream",
     "text": [
      "[nltk_data] Downloading package stopwords to C:\\Users\\Pranjal\n",
      "[nltk_data]     Arote\\AppData\\Roaming\\nltk_data...\n",
      "[nltk_data]   Package stopwords is already up-to-date!\n"
     ]
    },
    {
     "name": "stdout",
     "output_type": "stream",
     "text": [
      "0        The people who liked this comment is officiall...\n",
      "1                 - Wait, it's 7B views\\n- Always has been\n",
      "2        *Teacher: What is the population of the Earth?...\n",
      "3        Let's be honest this wasn't your recommendatio...\n",
      "4        Types Of People:\\n10% Enjoying Song \\n90% Chec...\n",
      "                               ...                        \n",
      "19295       Claim your “before 1 billion” certificate here\n",
      "19296      This means that you are before 1 billion views.\n",
      "19297    We won't have school till 2021 \\nMay God help ...\n",
      "19298              Literally saw this song from 1M -> 996M\n",
      "19299    Podría escuchar esta canción la misma cantidad...\n",
      "Name: Comment, Length: 19299, dtype: object\n"
     ]
    }
   ],
   "source": [
    "import re\n",
    "import string\n",
    "import nltk\n",
    "from nltk.corpus import stopwords\n",
    "nltk.download('stopwords')\n",
    "#preprocess the comments\n",
    "def preprocess_comment(comment):\n",
    "    #comment to lowercase\n",
    "    comment=comment.lower();\n",
    "    #remove websites\n",
    "    comment=re.sub(r'http\\S+','',comment)\n",
    "    #remove  whitespace\n",
    "    comment=comment.strip()\n",
    "    #remove punctuations\n",
    "    comment=comment.translate(str.maketrans('','',string.punctuation))\n",
    "    #remove numbers\n",
    "    comment=re.sub(r'\\d','',comment)\n",
    "    comment=re.sub(r'\\n','',comment)\n",
    "    stop_words = set(stopwords.words('english'))\n",
    "    comment = ' '.join([word for word in comment.split() if word not in stop_words])\n",
    "    return comment\n",
    "\n",
    "df['Sorted_comments']=df['Comment'].apply(preprocess_comment)\n",
    "print(df['Comment'])\n",
    "    "
   ]
  },
  {
   "cell_type": "code",
   "execution_count": 16,
   "id": "9ce2ee56",
   "metadata": {},
   "outputs": [
    {
     "name": "stdout",
     "output_type": "stream",
     "text": [
      "0                  people liked comment officially b views\n",
      "1                                      wait b views always\n",
      "2          teacher population earthme around one despacito\n",
      "3                lets honest wasnt recommendation searched\n",
      "4                types people enjoying song checking views\n",
      "                               ...                        \n",
      "19295                   claim “before billion” certificate\n",
      "19296                                  means billion views\n",
      "19297                        wont school till may god help\n",
      "19298                                   literally saw song\n",
      "19299    podría escuchar esta canción la misma cantidad...\n",
      "Name: Sorted_comments, Length: 19299, dtype: object\n"
     ]
    }
   ],
   "source": [
    "print(df['Sorted_comments'])"
   ]
  },
  {
   "cell_type": "code",
   "execution_count": 17,
   "id": "ba00a7b0",
   "metadata": {},
   "outputs": [],
   "source": [
    "#Perform Sentiment Analysis\n",
    "from textblob import TextBlob\n",
    "def analyze_sentiment(comment):\n",
    "    analysis=TextBlob(comment)\n",
    "    sentiment=analysis.sentiment.polarity\n",
    "    return sentiment\n",
    "\n",
    "#apply sentiment analysis to the cleaned comment\n",
    "df['sentiment']=df['Sorted_comments'].apply(analyze_sentiment)"
   ]
  },
  {
   "cell_type": "code",
   "execution_count": 18,
   "id": "ac22a7ba",
   "metadata": {},
   "outputs": [
    {
     "name": "stdout",
     "output_type": "stream",
     "text": [
      "0        0.6\n",
      "1        0.0\n",
      "2        0.0\n",
      "3        0.6\n",
      "4        0.5\n",
      "        ... \n",
      "19295    0.0\n",
      "19296    0.0\n",
      "19297    0.0\n",
      "19298    0.0\n",
      "19299    0.0\n",
      "Name: sentiment, Length: 19299, dtype: float64\n"
     ]
    }
   ],
   "source": [
    "print(df['sentiment'])"
   ]
  },
  {
   "cell_type": "code",
   "execution_count": 19,
   "id": "62498535",
   "metadata": {},
   "outputs": [
    {
     "name": "stdout",
     "output_type": "stream",
     "text": [
      "   sentiment Sentiment_Category\n",
      "0        0.6           Positive\n",
      "1        0.0            Neutral\n",
      "2        0.0            Neutral\n",
      "3        0.6           Positive\n",
      "4        0.5           Positive\n"
     ]
    }
   ],
   "source": [
    "def categorize_sentiment(score):\n",
    "    if score < 0:\n",
    "        return 'Negative'\n",
    "    elif score == 0:\n",
    "        return 'Neutral'\n",
    "    else:\n",
    "        return 'Positive'\n",
    "\n",
    "df['Sentiment_Category'] = df['sentiment'].apply(categorize_sentiment)\n",
    "\n",
    "# Display the first few rows of the dataset with sentiment categories\n",
    "print(df[['sentiment', 'Sentiment_Category']].head())"
   ]
  },
  {
   "cell_type": "code",
   "execution_count": 20,
   "id": "606dff00",
   "metadata": {},
   "outputs": [
    {
     "data": {
      "image/png": "[encoded data removed]",
      "text/plain": [
       "<Figure size 640x480 with 1 Axes>"
      ]
     },
     "metadata": {},
     "output_type": "display_data"
    }
   ],
   "source": [
    "#Analyze and visualize the Results\n",
    "import matplotlib.pyplot as plt\n",
    "def plot_sentiments(sentiments):\n",
    "    plt.hist(sentiments,bins=20,edgecolor='black')\n",
    "    plt.title('Sentiment Analysis of You tube comments')\n",
    "    plt.xlabel('Sentiment score')\n",
    "    plt.ylabel('Number of Comments')\n",
    "    plt.show()\n",
    "\n",
    "plot_sentiments(df['sentiment'])"
   ]
  },
  {
   "cell_type": "code",
   "execution_count": 21,
   "id": "621f3f61",
   "metadata": {},
   "outputs": [
    {
     "data": {
      "image/png": "[encoded data removed]",
      "text/plain": [
       "<Figure size 640x480 with 1 Axes>"
      ]
     },
     "metadata": {},
     "output_type": "display_data"
    }
   ],
   "source": [
    "import seaborn as sns\n",
    "sns.countplot(x='Sentiment_Category', data=df)\n",
    "plt.title('Sentiment Analysis of YouTube Comments')\n",
    "plt.xlabel('Sentiment Category')\n",
    "plt.ylabel('Number of Comments')\n",
    "plt.show()"
   ]
  }
 ],
 "metadata": {
  "kernelspec": {
   "display_name": "Python 3 (ipykernel)",
   "language": "python",
   "name": "python3"
  },
  "language_info": {
   "codemirror_mode": {
    "name": "ipython",
    "version": 3
   },
   "file_extension": ".py",
   "mimetype": "text/x-python",
   "name": "python",
   "nbconvert_exporter": "python",
   "pygments_lexer": "ipython3",
   "version": "3.10.9"
  }
 },
 "nbformat": 4,
 "nbformat_minor": 5
}
